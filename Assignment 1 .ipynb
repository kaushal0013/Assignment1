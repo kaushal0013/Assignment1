{
 "cells": [
  {
   "cell_type": "markdown",
   "id": "9ee1f3d0-e3b0-4779-86ca-3ef1c66fa464",
   "metadata": {},
   "source": [
    "Q1 Crewat one veriable containing following type data\\n\n",
    "(i) string\n",
    "(ii) list\n",
    "(iii)float\n",
    "(iv)tuple"
   ]
  },
  {
   "cell_type": "markdown",
   "id": "def81e5b-0ff8-4b6f-8422-8fe3568e1d3e",
   "metadata": {},
   "source": [
    "Ans."
   ]
  },
  {
   "cell_type": "code",
   "execution_count": 1,
   "id": "4471d2ed-f191-4820-b2c3-6d9c53810f5e",
   "metadata": {},
   "outputs": [],
   "source": [
    "c = \"kaushal\""
   ]
  },
  {
   "cell_type": "code",
   "execution_count": 2,
   "id": "5cbc3a19-3f73-4d8b-a654-d82441a3eec7",
   "metadata": {},
   "outputs": [],
   "source": [
    "c1 = 'pwskills'"
   ]
  },
  {
   "cell_type": "code",
   "execution_count": 4,
   "id": "8885ca00-971b-40d4-9f38-27eeb3180b4c",
   "metadata": {},
   "outputs": [
    {
     "data": {
      "text/plain": [
       "str"
      ]
     },
     "execution_count": 4,
     "metadata": {},
     "output_type": "execute_result"
    }
   ],
   "source": [
    "type(c)"
   ]
  },
  {
   "cell_type": "code",
   "execution_count": 5,
   "id": "1fe7d017-32a2-48c8-9c68-2b8576183b59",
   "metadata": {},
   "outputs": [],
   "source": [
    "a = [13,11,88]"
   ]
  },
  {
   "cell_type": "code",
   "execution_count": 7,
   "id": "9aa77649-b84e-444f-b56a-c536addff14d",
   "metadata": {},
   "outputs": [
    {
     "data": {
      "text/plain": [
       "list"
      ]
     },
     "execution_count": 7,
     "metadata": {},
     "output_type": "execute_result"
    }
   ],
   "source": [
    "type(a)"
   ]
  },
  {
   "cell_type": "code",
   "execution_count": 13,
   "id": "04132d0f-0ea1-4528-a4e2-19142be22625",
   "metadata": {},
   "outputs": [],
   "source": [
    "k = .5"
   ]
  },
  {
   "cell_type": "code",
   "execution_count": 14,
   "id": "5aef6d29-c497-418b-9ea8-8d65d78c2612",
   "metadata": {},
   "outputs": [
    {
     "data": {
      "text/plain": [
       "float"
      ]
     },
     "execution_count": 14,
     "metadata": {},
     "output_type": "execute_result"
    }
   ],
   "source": [
    "type(k)"
   ]
  },
  {
   "cell_type": "code",
   "execution_count": 11,
   "id": "c5a1cd87-4401-40fd-8e44-afc606ad0e13",
   "metadata": {},
   "outputs": [],
   "source": [
    "b = 1.23,87.425"
   ]
  },
  {
   "cell_type": "code",
   "execution_count": 12,
   "id": "9f207026-c948-454a-a97e-ad8a2a8325b8",
   "metadata": {},
   "outputs": [
    {
     "data": {
      "text/plain": [
       "tuple"
      ]
     },
     "execution_count": 12,
     "metadata": {},
     "output_type": "execute_result"
    }
   ],
   "source": [
    "type(b)"
   ]
  },
  {
   "cell_type": "code",
   "execution_count": null,
   "id": "8d92db0b-f2d2-40d9-8f18-9cec9dabba55",
   "metadata": {},
   "outputs": [],
   "source": []
  },
  {
   "cell_type": "code",
   "execution_count": null,
   "id": "ea7a3c0b-b795-4221-9a0a-4b6466692447",
   "metadata": {},
   "outputs": [],
   "source": []
  },
  {
   "cell_type": "markdown",
   "id": "aace787e-9c8d-49e7-8dcf-1f27f5283660",
   "metadata": {},
   "source": [
    "Q2  Given are some following variables containing data:\n",
    "\n",
    "(1) varl=\n",
    "\n",
    "(i) var2='[DS, ML, Python]\n",
    "\n",
    "(iii) var3 = [ 'DS', 'ML', 'Python']\n",
    "\n",
    "(iv) vard=1."
   ]
  },
  {
   "cell_type": "code",
   "execution_count": 25,
   "id": "69ad00f0-98b0-41d6-a459-129b0fd90b54",
   "metadata": {},
   "outputs": [
    {
     "ename": "SyntaxError",
     "evalue": "invalid syntax (2743126422.py, line 1)",
     "output_type": "error",
     "traceback": [
      "\u001b[0;36m  Cell \u001b[0;32mIn[25], line 1\u001b[0;36m\u001b[0m\n\u001b[0;31m    varl=\u001b[0m\n\u001b[0m         ^\u001b[0m\n\u001b[0;31mSyntaxError\u001b[0m\u001b[0;31m:\u001b[0m invalid syntax\n"
     ]
    }
   ],
   "source": [
    "var1="
   ]
  },
  {
   "cell_type": "markdown",
   "id": "ff5617f1-ffe7-44b5-80f2-5910d11747f8",
   "metadata": {},
   "source": [
    "type(var1)"
   ]
  },
  {
   "cell_type": "code",
   "execution_count": 28,
   "id": "1734f6cb-2b6d-45c0-bc78-d30b5be50d7b",
   "metadata": {},
   "outputs": [],
   "source": [
    "var2='[DS, ML, Python]'"
   ]
  },
  {
   "cell_type": "code",
   "execution_count": 29,
   "id": "e2175d01-f4cf-4068-8145-56b6aecf701d",
   "metadata": {},
   "outputs": [
    {
     "data": {
      "text/plain": [
       "str"
      ]
     },
     "execution_count": 29,
     "metadata": {},
     "output_type": "execute_result"
    }
   ],
   "source": [
    "type(var2)"
   ]
  },
  {
   "cell_type": "code",
   "execution_count": 30,
   "id": "78cf20a6-bc0f-479c-bc7a-04d2958c5d89",
   "metadata": {},
   "outputs": [],
   "source": [
    "var3 = [ 'DS', 'ML', 'Python']"
   ]
  },
  {
   "cell_type": "code",
   "execution_count": 31,
   "id": "bfaff067-4e90-44bf-b013-f4bd2f5b6599",
   "metadata": {},
   "outputs": [
    {
     "data": {
      "text/plain": [
       "list"
      ]
     },
     "execution_count": 31,
     "metadata": {},
     "output_type": "execute_result"
    }
   ],
   "source": [
    "type(var3)"
   ]
  },
  {
   "cell_type": "code",
   "execution_count": 22,
   "id": "dba0a135-bde1-401c-b3ba-3664222f8b05",
   "metadata": {},
   "outputs": [
    {
     "data": {
      "text/plain": [
       "float"
      ]
     },
     "execution_count": 22,
     "metadata": {},
     "output_type": "execute_result"
    }
   ],
   "source": [
    "type(vard)"
   ]
  },
  {
   "cell_type": "markdown",
   "id": "9a0a3246-5f22-43ab-a9db-318b26f60dca",
   "metadata": {},
   "source": [
    "Q3. Explain the use of the following operators using an example:\n",
    "(i)/  \n",
    "(ii)%  \n",
    "(iii)//\n",
    "(iv)**"
   ]
  },
  {
   "cell_type": "code",
   "execution_count": 35,
   "id": "36aa1636-5a02-483f-9996-7b1e2a944929",
   "metadata": {},
   "outputs": [
    {
     "data": {
      "text/plain": [
       "20.0"
      ]
     },
     "execution_count": 35,
     "metadata": {},
     "output_type": "execute_result"
    }
   ],
   "source": [
    "100/5"
   ]
  },
  {
   "cell_type": "code",
   "execution_count": 36,
   "id": "ff02d1f6-2c0e-4ddb-8755-b31a2351cfec",
   "metadata": {},
   "outputs": [
    {
     "data": {
      "text/plain": [
       "0"
      ]
     },
     "execution_count": 36,
     "metadata": {},
     "output_type": "execute_result"
    }
   ],
   "source": [
    "95%5"
   ]
  },
  {
   "cell_type": "code",
   "execution_count": 37,
   "id": "67717141-b682-4b7d-8434-73b8d8b614a0",
   "metadata": {},
   "outputs": [
    {
     "data": {
      "text/plain": [
       "200"
      ]
     },
     "execution_count": 37,
     "metadata": {},
     "output_type": "execute_result"
    }
   ],
   "source": [
    "600//3"
   ]
  },
  {
   "cell_type": "code",
   "execution_count": 39,
   "id": "b1a4948e-a946-4d7f-a327-3b2e5a517b13",
   "metadata": {},
   "outputs": [
    {
     "data": {
      "text/plain": [
       "64"
      ]
     },
     "execution_count": 39,
     "metadata": {},
     "output_type": "execute_result"
    }
   ],
   "source": [
    "8**2"
   ]
  },
  {
   "cell_type": "markdown",
   "id": "fa4758cd-2222-4229-bede-ada9fda7104f",
   "metadata": {},
   "source": [
    "Q4  Create a list of length 10 of your choice containing multiple types of data. Using for loop print the element and its data type.\n"
   ]
  },
  {
   "cell_type": "code",
   "execution_count": 40,
   "id": "538f6c21-dda1-47e7-bd3e-88d65f5f9b24",
   "metadata": {},
   "outputs": [
    {
     "data": {
      "text/plain": [
       "'Hello'"
      ]
     },
     "execution_count": 40,
     "metadata": {},
     "output_type": "execute_result"
    }
   ],
   "source": [
    "'Hello'"
   ]
  },
  {
   "cell_type": "code",
   "execution_count": 43,
   "id": "f92fd35d-dabc-4106-a9ee-94a6c59676a3",
   "metadata": {},
   "outputs": [
    {
     "data": {
      "text/plain": [
       "str"
      ]
     },
     "execution_count": 43,
     "metadata": {},
     "output_type": "execute_result"
    }
   ],
   "source": [
    "type('Hello')"
   ]
  },
  {
   "cell_type": "code",
   "execution_count": 46,
   "id": "21e00f8f-3acc-44f1-8432-0e8da6d5ed85",
   "metadata": {},
   "outputs": [
    {
     "data": {
      "text/plain": [
       "int"
      ]
     },
     "execution_count": 46,
     "metadata": {},
     "output_type": "execute_result"
    }
   ],
   "source": [
    "type(42)"
   ]
  },
  {
   "cell_type": "code",
   "execution_count": 48,
   "id": "881e66d5-f473-4b02-9155-281ff95a0ddc",
   "metadata": {},
   "outputs": [
    {
     "data": {
      "text/plain": [
       "float"
      ]
     },
     "execution_count": 48,
     "metadata": {},
     "output_type": "execute_result"
    }
   ],
   "source": [
    "type(3.48)"
   ]
  },
  {
   "cell_type": "code",
   "execution_count": 50,
   "id": "0e0912e9-aef0-4eea-8f7e-b7a97c4be051",
   "metadata": {},
   "outputs": [
    {
     "data": {
      "text/plain": [
       "bool"
      ]
     },
     "execution_count": 50,
     "metadata": {},
     "output_type": "execute_result"
    }
   ],
   "source": [
    "type(True)"
   ]
  },
  {
   "cell_type": "code",
   "execution_count": 52,
   "id": "5e57ca77-b507-48af-98f4-d659e2b72081",
   "metadata": {},
   "outputs": [
    {
     "data": {
      "text/plain": [
       "list"
      ]
     },
     "execution_count": 52,
     "metadata": {},
     "output_type": "execute_result"
    }
   ],
   "source": [
    "type([1,2,3,4,11,13])"
   ]
  },
  {
   "cell_type": "code",
   "execution_count": 54,
   "id": "475da56a-563b-41c9-b557-8b1c2bdec1f7",
   "metadata": {},
   "outputs": [
    {
     "data": {
      "text/plain": [
       "dict"
      ]
     },
     "execution_count": 54,
     "metadata": {},
     "output_type": "execute_result"
    }
   ],
   "source": [
    "type({\"kaushal\":\"Datascience\",\"year\":2011})"
   ]
  },
  {
   "cell_type": "code",
   "execution_count": 56,
   "id": "06df49a2-5b30-45ff-9b49-8cdbda7440f7",
   "metadata": {},
   "outputs": [
    {
     "data": {
      "text/plain": [
       "tuple"
      ]
     },
     "execution_count": 56,
     "metadata": {},
     "output_type": "execute_result"
    }
   ],
   "source": [
    "type((1,2,3,4,5))"
   ]
  },
  {
   "cell_type": "code",
   "execution_count": 58,
   "id": "e3beed31-6f39-4d52-be47-6c0cc9c2acb1",
   "metadata": {},
   "outputs": [
    {
     "data": {
      "text/plain": [
       "NoneType"
      ]
     },
     "execution_count": 58,
     "metadata": {},
     "output_type": "execute_result"
    }
   ],
   "source": [
    "type(None)"
   ]
  },
  {
   "cell_type": "code",
   "execution_count": 64,
   "id": "f4a10704-47ed-4bc9-a757-c6657f5b6367",
   "metadata": {},
   "outputs": [
    {
     "data": {
      "text/plain": [
       "bytes"
      ]
     },
     "execution_count": 64,
     "metadata": {},
     "output_type": "execute_result"
    }
   ],
   "source": [
    "type(b\"Kaushal\")"
   ]
  },
  {
   "cell_type": "code",
   "execution_count": 66,
   "id": "88c70980-796a-4b13-9d14-a441f9922645",
   "metadata": {},
   "outputs": [
    {
     "data": {
      "text/plain": [
       "set"
      ]
     },
     "execution_count": 66,
     "metadata": {},
     "output_type": "execute_result"
    }
   ],
   "source": [
    "type({\"apple\", \"banana\", \"cherry\"})"
   ]
  },
  {
   "cell_type": "markdown",
   "id": "df20a772-3275-4851-914b-da74432b241a",
   "metadata": {},
   "source": [
    "Using a while loop, verify if the number A is purely divisible by number 8 and if so then how many\n",
    "\n",
    "times it can be divisible."
   ]
  },
  {
   "cell_type": "code",
   "execution_count": null,
   "id": "621516bd-4a98-41c1-947f-dfce31b30068",
   "metadata": {},
   "outputs": [],
   "source": []
  },
  {
   "cell_type": "code",
   "execution_count": 68,
   "id": "95f02edd-5a58-4a95-9a60-7c344d3f489c",
   "metadata": {},
   "outputs": [
    {
     "name": "stdin",
     "output_type": "stream",
     "text": [
      "Enter a number:  40\n"
     ]
    },
    {
     "name": "stdout",
     "output_type": "stream",
     "text": [
      "1 times purely divisible by 8\n"
     ]
    }
   ],
   "source": [
    "\n",
    "A = int(input(\"Enter a number: \"))\n",
    "\n",
    "\n",
    "count = 0\n",
    "\n",
    "\n",
    "while A % 8 == 0:\n",
    "    A //= 8 \n",
    "    count += 1\n",
    "\n",
    "\n",
    "if count > 0:\n",
    "    print(f\"{count} times purely divisible by 8\")\n",
    "else:\n",
    "    print(\"Not purely divisible by 8\")"
   ]
  },
  {
   "cell_type": "code",
   "execution_count": null,
   "id": "c59d3e1e-23ea-4301-bdb6-7f9c4792ebe9",
   "metadata": {},
   "outputs": [],
   "source": []
  },
  {
   "cell_type": "code",
   "execution_count": null,
   "id": "3afb902d-ebb9-40d2-838f-b72dcd407d01",
   "metadata": {},
   "outputs": [],
   "source": []
  },
  {
   "cell_type": "markdown",
   "id": "1f81c94d-0b34-4678-9437-163728348e0f",
   "metadata": {},
   "source": [
    " Q6 'Create a list containing 25 int type data. Using for loop and if-else condition print if the element is\n",
    "\n",
    "divisible by 3 or not.\n"
   ]
  },
  {
   "cell_type": "code",
   "execution_count": 69,
   "id": "33f998ec-bf21-4155-a6fc-0f192f18d019",
   "metadata": {},
   "outputs": [
    {
     "name": "stdout",
     "output_type": "stream",
     "text": [
      "12 is divisible by 3\n",
      "6 is divisible by 3\n",
      "8 is not divisible by 3\n",
      "27 is divisible by 3\n",
      "15 is divisible by 3\n",
      "10 is not divisible by 3\n",
      "18 is divisible by 3\n",
      "9 is divisible by 3\n",
      "21 is divisible by 3\n",
      "30 is divisible by 3\n",
      "5 is not divisible by 3\n",
      "7 is not divisible by 3\n",
      "14 is not divisible by 3\n",
      "24 is divisible by 3\n",
      "36 is divisible by 3\n",
      "42 is divisible by 3\n",
      "16 is not divisible by 3\n",
      "33 is divisible by 3\n",
      "22 is not divisible by 3\n",
      "11 is not divisible by 3\n",
      "20 is not divisible by 3\n",
      "28 is not divisible by 3\n",
      "4 is not divisible by 3\n",
      "45 is divisible by 3\n",
      "3 is divisible by 3\n"
     ]
    }
   ],
   "source": [
    "data_list = [12, 6, 8, 27, 15, 10, 18, 9, 21, 30, 5, 7, 14, 24, 36, 42, 16, 33, 22, 11, 20, 28, 4, 45, 3]\n",
    "\n",
    "\n",
    "for num in data_list:\n",
    "    \n",
    "    if num % 3 == 0:\n",
    "        print(f\"{num} is divisible by 3\")\n",
    "    else:\n",
    "        print(f\"{num} is not divisible by 3\")"
   ]
  },
  {
   "cell_type": "code",
   "execution_count": null,
   "id": "22a3e0f1-688c-4a30-a97c-7d7020b33365",
   "metadata": {},
   "outputs": [],
   "source": []
  },
  {
   "cell_type": "markdown",
   "id": "60931865-8f0a-47fa-babd-5cca81abeeee",
   "metadata": {},
   "source": [
    "Q7. What do you understand about mutable and immutable data types? Give examples for both showing this property."
   ]
  },
  {
   "cell_type": "raw",
   "id": "9746ea48-58ea-4637-af05-7fd5fd14dc20",
   "metadata": {},
   "source": [
    "Immutable Data Types:\n",
    "Immutable data types are data types whose values cannot be modified after they are created. When you perform an operation that appears to modify an immutable object, you are actually creating a new object with the modified value. Examples of immutable data types in Python include:"
   ]
  },
  {
   "cell_type": "raw",
   "id": "238f635f-713d-4981-8b75-e63642ca1488",
   "metadata": {},
   "source": [
    "(1) int: Integer values are immutable. When you perform operations on integers, you create new integer objects."
   ]
  },
  {
   "cell_type": "code",
   "execution_count": 70,
   "id": "8cbb1105-4248-40a1-8666-20c807633e36",
   "metadata": {},
   "outputs": [
    {
     "name": "stdout",
     "output_type": "stream",
     "text": [
      "6\n",
      "5\n"
     ]
    }
   ],
   "source": [
    "x = 5\n",
    "y = x  \n",
    "\n",
    "x += 1  \n",
    "print(x) \n",
    "print(y)"
   ]
  },
  {
   "cell_type": "raw",
   "id": "5c0377b2-f188-42db-80d0-cf7935d22291",
   "metadata": {},
   "source": [
    "(2)str: Strings in Python are immutable. Any operation that appears to modify a string creates a new string object"
   ]
  },
  {
   "cell_type": "code",
   "execution_count": 72,
   "id": "88c2e3bd-f896-4dec-ac10-b55bc8bd81df",
   "metadata": {},
   "outputs": [
    {
     "name": "stdout",
     "output_type": "stream",
     "text": [
      "Hello, World!\n",
      "Hello\n"
     ]
    }
   ],
   "source": [
    "s1 = \"Hello\"\n",
    "s2 = s1  \n",
    "s1 += \", World!\" \n",
    "print(s1)  \n",
    "print(s2) "
   ]
  },
  {
   "cell_type": "raw",
   "id": "66ca501a-5bc7-4ed6-9693-42098854d559",
   "metadata": {},
   "source": [
    "Mutable Data Types:\n",
    "Mutable data types are data types whose values can be modified after they are created. This means that you can change their content without creating a new object. Examples of mutable data types in Python include:"
   ]
  },
  {
   "cell_type": "raw",
   "id": "badba94a-d036-468f-91e3-f059cc52ef21",
   "metadata": {},
   "source": [
    "(1)ist: Lists are mutable. You can modify their elements, add, remove, or change values without creating a new list."
   ]
  },
  {
   "cell_type": "code",
   "execution_count": 73,
   "id": "ee5f3736-684d-4a55-b43e-c7ac7faf7f12",
   "metadata": {},
   "outputs": [
    {
     "name": "stdout",
     "output_type": "stream",
     "text": [
      "[1, 2, 3, 4]\n",
      "[0, 2, 3, 4]\n"
     ]
    }
   ],
   "source": [
    "my_list = [1, 2, 3]\n",
    "my_list.append(4)  \n",
    "print(my_list)  \n",
    "\n",
    "my_list[0] = 0  \n",
    "print(my_list)"
   ]
  },
  {
   "cell_type": "raw",
   "id": "27d38d67-9d84-4453-a33c-e297d5eefd08",
   "metadata": {},
   "source": [
    "(2)dict: Dictionaries are mutable. You can add, remove, or modify key-value pairs in a dictionary without creating a new dictionary."
   ]
  },
  {
   "cell_type": "code",
   "execution_count": 74,
   "id": "a55cba12-e352-485f-aa8e-cd169e0ae0aa",
   "metadata": {},
   "outputs": [
    {
     "name": "stdout",
     "output_type": "stream",
     "text": [
      "{'name': 'Alice', 'age': 31}\n",
      "{'name': 'Alice', 'age': 31, 'city': 'New York'}\n"
     ]
    }
   ],
   "source": [
    "my_dict = {'name': 'Alice', 'age': 30}\n",
    "my_dict['age'] = 31  # Modifies the 'age' value\n",
    "print(my_dict)  # Output: {'name': 'Alice', 'age': 31}\n",
    "\n",
    "my_dict['city'] = 'New York'  # Adds a new key-value pair\n",
    "print(my_dict)  # Output: {'name': 'Alice', 'age': 31, 'city': 'New York'}\n"
   ]
  },
  {
   "cell_type": "code",
   "execution_count": null,
   "id": "d47e2dd4-e692-4f5f-886b-0dadc920c27b",
   "metadata": {},
   "outputs": [],
   "source": []
  },
  {
   "cell_type": "code",
   "execution_count": null,
   "id": "75097763-dc3f-40c9-89d2-bb5055aec058",
   "metadata": {},
   "outputs": [],
   "source": []
  }
 ],
 "metadata": {
  "kernelspec": {
   "display_name": "Python 3 (ipykernel)",
   "language": "python",
   "name": "python3"
  },
  "language_info": {
   "codemirror_mode": {
    "name": "ipython",
    "version": 3
   },
   "file_extension": ".py",
   "mimetype": "text/x-python",
   "name": "python",
   "nbconvert_exporter": "python",
   "pygments_lexer": "ipython3",
   "version": "3.10.8"
  }
 },
 "nbformat": 4,
 "nbformat_minor": 5
}
